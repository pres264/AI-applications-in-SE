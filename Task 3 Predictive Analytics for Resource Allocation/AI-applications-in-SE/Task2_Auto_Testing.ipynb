{
  "cells": [
    {
      "cell_type": "markdown",
      "metadata": {
        "id": "QxJwRpm8Lv8f"
      },
      "source": [
        "# **Task 2: Automated Testing with AI**\n",
        "##📌 **Objective**\n",
        "The goal of this task was to automate a test case for a login page, validate its behavior using valid and invalid credentials, and explore how AI-enhanced tools improve test reliability and coverage in comparison to manual testing.\n",
        "\n",
        "##🧰 **Tools & Technologies Used**\n",
        "* Selenium IDE (Record-and-playback testing tool)\n",
        "* Google Chrome Browser\n",
        "* Public Demo Login Page\n",
        "https://practicetestautomation.com/practice-test-login/\n",
        "\n",
        "**AI Concepts Explored:**\n",
        "* Self-healing locators (AI-powered plugins—optional)\n",
        "* Visual validation (optional via Applitools, not used in this test)\n",
        "\n",
        "## 🔬 **Test Cases Designed**\n",
        "✅ **1. Valid Login Test**\n",
        "\n",
        "**Input:**\n",
        "-  Username = student\n",
        "-  Password = Password123\n",
        "\n",
        "**Expected Result:**\n",
        "- Redirect to dashboard or presence of logout button\n",
        "- **Assertion Used:** assert element present, assert text\n",
        "\n",
        "❌**2. Invalid Login Test**\n",
        "\n",
        "**Input:**\n",
        "- Username = wronguser\n",
        "- Password = wrongpass\n",
        "\n",
        "**Expected Result:**\n",
        "- Error message displayed (Invalid credentials!)\n",
        "- **Assertion Used:** assert text, assert visible on id=error\n",
        "\n",
        "## 📷**Snapshots of Test Results**\n",
        "\n",
        "### **Test 1: Successful login test with dashboard assertion**\n",
        "\n",
        "![Valid Test](https://github.com/KERAMA-sys/AI-applications-in-SE/blob/main/images/valid.PNG?raw=1)\n",
        "\n",
        "### **Test 2: Invalid login showing error message**\n",
        "\n",
        "![invalid Test](https://github.com/KERAMA-sys/AI-applications-in-SE/blob/main/images/invalid.PNG?raw=1)\n",
        "\n",
        "\n"
      ]
    },
    {
      "cell_type": "markdown",
      "source": [
        "# **How AI Improves Test Coverage**\n",
        "- AI detects subtle visual/UI changes and is not prone to human error.\n",
        "- AI has Self-healing locators thus reducing maintenance and frequent updates incase of changes.\n",
        "- AI saves time and boosts coverage by adapting automatically to minor UI changes incase of Test Fails (e.g., smart selectors)\n",
        "\n",
        "## **Without AI:**\n",
        "1. Tests are brittle as small UI changes may break tests.\n",
        "2. No adaptation to dynamic element changes.\n",
        "3. Requires manual maintenance of locators and test flow\n",
        "\n",
        "✅ Conclusion\n",
        "Through this task, We were able to successfully automate login scenarios using Selenium IDE. While the tool provides quick and effective test recording, AI-enhanced plugins/tools can drastically improve test resilience, reduce maintenance, and increase efficiency—especially in modern, frequently changing applications.\n",
        "\n",
        "\n"
      ],
      "metadata": {
        "id": "l3FhRcrhaxF8"
      }
    }
  ],
  "metadata": {
    "colab": {
      "provenance": []
    },
    "kernelspec": {
      "display_name": "Python 3",
      "name": "python3"
    },
    "language_info": {
      "name": "python"
    }
  },
  "nbformat": 4,
  "nbformat_minor": 0
}
